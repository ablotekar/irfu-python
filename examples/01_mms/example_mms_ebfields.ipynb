{
 "cells": [
  {
   "cell_type": "markdown",
   "metadata": {},
   "source": [
    "# EB Fields\n",
    "author: Louis Richard\\\n",
    "Plots E and B time series and of burst mode electric field in GSE coordinates and field-aligned coordinates. Plots spectrograms of paralleland perpendicular electric fields and fluctuating magnetic field."
   ]
  },
  {
   "cell_type": "code",
   "execution_count": 1,
   "metadata": {},
   "outputs": [],
   "source": [
    "import numpy as np\n",
    "import xarray as xr\n",
    "import matplotlib.pyplot as plt\n",
    "\n",
    "from astropy import constants\n",
    "from pyrfu.mms import get_data\n",
    "from pyrfu.plot import plot_line, plot_spectr\n",
    "from pyrfu.pyrf import wavelet, norm, convert_fac, filt, resample, ts_scalar"
   ]
  },
  {
   "cell_type": "markdown",
   "metadata": {},
   "source": [
    "## Define time interval and spacecraft index"
   ]
  },
  {
   "cell_type": "code",
   "execution_count": 2,
   "metadata": {},
   "outputs": [],
   "source": [
    "tint = [\"2015-10-30T05:15:20.000\", \"2015-10-30T05:16:20.000\"]\n",
    "ic = 1"
   ]
  },
  {
   "cell_type": "markdown",
   "metadata": {},
   "source": [
    "## Load data"
   ]
  },
  {
   "cell_type": "markdown",
   "metadata": {},
   "source": [
    "### Load FGM data"
   ]
  },
  {
   "cell_type": "code",
   "execution_count": 4,
   "metadata": {},
   "outputs": [
    {
     "name": "stdout",
     "output_type": "stream",
     "text": [
      "Loading mms1_fgm_b_gse_brst_l2...\n",
      "Loading mms1_edp_dce_gse_brst_l2...\n",
      "Loading mms1_scm_acb_gse_scb_brst_l2...\n",
      "Loading mms1_des_numberdensity_brst...\n"
     ]
    }
   ],
   "source": [
    "b_xyz = get_data(\"b_gse_fgm_brst_l2\", tint, ic)\n",
    "b_mag = norm(b_xyz)"
   ]
  },
  {
   "cell_type": "markdown",
   "metadata": {},
   "source": [
    "### Load EDP data"
   ]
  },
  {
   "cell_type": "code",
   "execution_count": null,
   "metadata": {},
   "outputs": [],
   "source": [
    "e_xyz = get_data(\"e_gse_edp_brst_l2\", tint, ic)"
   ]
  },
  {
   "cell_type": "markdown",
   "metadata": {},
   "source": [
    "### Load SCM data"
   ]
  },
  {
   "cell_type": "code",
   "execution_count": null,
   "metadata": {},
   "outputs": [],
   "source": [
    "b_scm = get_data(\"b_gse_scm_brst_l2\", tint, ic)"
   ]
  },
  {
   "cell_type": "markdown",
   "metadata": {},
   "source": [
    "### Load FPI data"
   ]
  },
  {
   "cell_type": "code",
   "execution_count": null,
   "metadata": {},
   "outputs": [],
   "source": [
    "n_e =  get_data(\"ne_fpi_brst_l2\", tint, ic)"
   ]
  },
  {
   "cell_type": "markdown",
   "metadata": {},
   "source": [
    "## Compute low and high frequency electric field and magnetic field fluctuations in FAC"
   ]
  },
  {
   "cell_type": "markdown",
   "metadata": {},
   "source": [
    "### Rotate E and B into field-aligned coordinates"
   ]
  },
  {
   "cell_type": "code",
   "execution_count": 5,
   "metadata": {},
   "outputs": [],
   "source": [
    "e_xyzfac = convert_fac(e_xyz, b_xyz,[1, 0, 0])\n",
    "b_scmfac = convert_fac(b_scm, b_xyz,[1, 0, 0])"
   ]
  },
  {
   "cell_type": "markdown",
   "metadata": {},
   "source": [
    "#### Bandpass filter E and B waveforms"
   ]
  },
  {
   "cell_type": "code",
   "execution_count": 6,
   "metadata": {},
   "outputs": [],
   "source": [
    "fmin, fmax = [.5, 1000]  # Hz\n",
    "e_xyzfac_hf = filt(e_xyzfac, fmin, 0, 3)\n",
    "e_xyzfac_lf = filt(e_xyzfac, 0, fmin, 3)\n",
    "b_scmfac_hf = filt(b_scmfac, fmin, 0, 3)"
   ]
  },
  {
   "cell_type": "markdown",
   "metadata": {},
   "source": [
    "## Wavelet transform of the electric field and the magnetic field fluctuations"
   ]
  },
  {
   "cell_type": "markdown",
   "metadata": {},
   "source": [
    "### Compute wavelet transforms"
   ]
  },
  {
   "cell_type": "code",
   "execution_count": 7,
   "metadata": {},
   "outputs": [],
   "source": [
    "nf = 100\n",
    "e_cwt, b_cwt = [wavelet(field, nf=nf, f=[fmin, fmax]) for field in [e_xyzfac, b_scm]]"
   ]
  },
  {
   "cell_type": "markdown",
   "metadata": {
    "pycharm": {
     "name": "#%% md\n"
    }
   },
   "source": [
    "### Compress wavelet transform"
   ]
  },
  {
   "cell_type": "code",
   "execution_count": 8,
   "metadata": {},
   "outputs": [
    {
     "name": "stderr",
     "output_type": "stream",
     "text": [
      "/Library/Frameworks/Python.framework/Versions/3.7/lib/python3.7/site-packages/ipykernel_launcher.py:13: RuntimeWarning: Mean of empty slice\n",
      "  del sys.path[0]\n",
      "/Library/Frameworks/Python.framework/Versions/3.7/lib/python3.7/site-packages/ipykernel_launcher.py:14: RuntimeWarning: Mean of empty slice\n",
      "  \n",
      "/Library/Frameworks/Python.framework/Versions/3.7/lib/python3.7/site-packages/ipykernel_launcher.py:15: RuntimeWarning: Mean of empty slice\n",
      "  from ipykernel import kernelapp as app\n",
      "/Library/Frameworks/Python.framework/Versions/3.7/lib/python3.7/site-packages/ipykernel_launcher.py:31: RuntimeWarning: Mean of empty slice\n",
      "/Library/Frameworks/Python.framework/Versions/3.7/lib/python3.7/site-packages/ipykernel_launcher.py:32: RuntimeWarning: Mean of empty slice\n",
      "/Library/Frameworks/Python.framework/Versions/3.7/lib/python3.7/site-packages/ipykernel_launcher.py:33: RuntimeWarning: Mean of empty slice\n"
     ]
    }
   ],
   "source": [
    "nc = 100\n",
    "\n",
    "# Number of frequencies\n",
    "nf = e_cwt.x.shape[1]\n",
    "\n",
    "idxs = np.arange(int(nc / 2), len(e_cwt.time) - int(nc / 2), step=nc).astype(int)\n",
    "\n",
    "e_cwt_times = e_cwt.time[idxs]\n",
    "\n",
    "e_cwt_x, e_cwt_y, e_cwt_z = [np.zeros((len(idxs), nf)) for _ in range(3)]\n",
    "\n",
    "for i, idx in enumerate(idxs):\n",
    "    e_cwt_x[i, :] = np.squeeze(np.nanmean(e_cwt.x[idx - int(nc / 2) + 1:idx + int(nc / 2), :], axis=0))\n",
    "    e_cwt_y[i, :] = np.squeeze(np.nanmean(e_cwt.y[idx - int(nc / 2) + 1:idx + int(nc / 2), :], axis=0))\n",
    "    e_cwt_z[i, :] = np.squeeze(np.nanmean(e_cwt.z[idx - int(nc / 2) + 1:idx + int(nc / 2), :], axis=0))\n",
    "\n",
    "options = dict(coords=[e_cwt_times, e_cwt.frequency], dims=[\"time\", \"frequency\"])\n",
    "e_perp_cwt = xr.DataArray(e_cwt_x + e_cwt_y, **options)\n",
    "e_para_cwt = xr.DataArray(e_cwt_z, **options)\n",
    "\n",
    "# Number of frequencies\n",
    "nf = b_cwt.x.shape[1]\n",
    "\n",
    "idxs = np.arange(int(nc / 2), len(b_cwt.time) - int(nc / 2), step=nc).astype(int)\n",
    "\n",
    "b_cwt_times = b_cwt.time[idxs]\n",
    "\n",
    "b_cwt_x, b_cwt_y, b_cwt_z = [np.zeros((len(idxs), nf)) for _ in range(3)]\n",
    "\n",
    "for i, idx in enumerate(idxs):\n",
    "    b_cwt_x[i, :] = np.squeeze(np.nanmean(b_cwt.x[idx - int(nc / 2) + 1:idx + int(nc / 2), :], axis=0))\n",
    "    b_cwt_y[i, :] = np.squeeze(np.nanmean(b_cwt.y[idx - int(nc / 2) + 1:idx + int(nc / 2), :], axis=0))\n",
    "    b_cwt_z[i, :] = np.squeeze(np.nanmean(b_cwt.z[idx - int(nc / 2) + 1:idx + int(nc / 2), :], axis=0))\n",
    "\n",
    "options = dict(coords=[b_cwt_times, b_cwt.frequency], dims=[\"time\", \"frequency\"])\n",
    "b_cwt = xr.DataArray(b_cwt_x + b_cwt_y + b_cwt_z, **options)"
   ]
  },
  {
   "cell_type": "markdown",
   "metadata": {},
   "source": [
    "## Compute characteristic frequencies"
   ]
  },
  {
   "cell_type": "code",
   "execution_count": 9,
   "metadata": {
    "pycharm": {
     "name": "#%%\n"
    }
   },
   "outputs": [],
   "source": [
    "me = constants.m_e.value\n",
    "mp = constants.m_p.value\n",
    "qe = constants.e.value\n",
    "eps0 = constants.eps0.value\n",
    "mu0 = constants.mu0.value\n",
    "mp_me = mp / me\n",
    "b_si = b_mag * 1e-9\n",
    "w_pe = np.sqrt(resample(n_e, b_xyz) * 1e6 * qe ** 2 /(me * eps0))\n",
    "w_ce = qe * b_si / me\n",
    "w_pp = np.sqrt(resample(n_e, b_xyz) * 1e6 * qe ** 2/ (mp * eps0))\n",
    "f_ce = w_ce / (2 * np.pi)\n",
    "f_pe = w_pe / (2 * np.pi)\n",
    "f_cp = f_ce / mp_me\n",
    "f_pp = w_pp / (2 * np.pi)\n",
    "f_lh = np.sqrt(f_cp * f_ce /(1 + f_ce ** 2. / f_pe ** 2) + f_cp ** 2)"
   ]
  },
  {
   "cell_type": "code",
   "execution_count": null,
   "metadata": {},
   "outputs": [],
   "source": []
  },
  {
   "cell_type": "markdown",
   "metadata": {},
   "source": [
    "## Plot figure"
   ]
  },
  {
   "cell_type": "code",
   "execution_count": null,
   "metadata": {},
   "outputs": [],
   "source": [
    "legend_options = dict(ncol=4, loc=\"upper right\", frameon=True)\n",
    "spectr_options = dict(yscale=\"log\", cscale=\"log\", cmap=\"Spectral_r\")"
   ]
  },
  {
   "cell_type": "code",
   "execution_count": null,
   "metadata": {},
   "outputs": [],
   "source": [
    "f, axs = plt.subplots(7, sharex=\"all\", figsize=(6.5, 10))\n",
    "f.subplots_adjust(hspace=0, left=.15, right=.85)\n",
    "\n",
    "plot_line(axs[0], b_xyz)\n",
    "plot_line(axs[0], b_mag)\n",
    "axs[0].set_ylabel(\"$B$ [nT]\")\n",
    "labels = [\"$B_x$\", \"$B_y$\", \"$B_z$\", \"$|B|$\"]\n",
    "axs[0].legend(labels, **legend_options)\n",
    "\n",
    "plot_line(axs[1], e_xyzfac_lf)\n",
    "axs[1].set_ylabel(\"$E$ [mV m$^{-1}$]\")\n",
    "labels = [\"$E_{\\\\perp 1}$\", \"$E_{\\\\perp 2}$\", \"$E_{||}$\"]\n",
    "axs[1].legend(labels, **legend_options)\n",
    "\n",
    "plot_line(axs[2], e_xyzfac_hf)\n",
    "axs[2].set_ylabel(\"$E$ [mV m$^{-1}$]\")\n",
    "labels = [\"$E_{\\\\perp 1}$\", \"$E_{\\\\perp 2}$\", \"$E_{||}$\"]\n",
    "axs[2].legend(labels, **legend_options)\n",
    "\n",
    "axs[3], caxs3 = plot_spectr(axs[3], e_perp_cwt, **spectr_options)\n",
    "axs[3].set_ylabel(\"$f$ [Hz]\")\n",
    "caxs3.set_ylabel(\"$E_{\\\\perp}^2$\" + \"\\n\" + \"[mV$^{2}$ m$^{-2}$ Hz$^{-1}$]\")\n",
    "plot_line(axs[3], f_lh, \"k\")\n",
    "plot_line(axs[3], f_ce, \"tab:blue\")\n",
    "plot_line(axs[3], f_pp, \"tab:red\")\n",
    "labels = [\"$f_{lh}$\", \"$f_{ce}$\", \"$f_{pp}$\"]\n",
    "axs[3].legend(labels, **legend_options)\n",
    "\n",
    "axs[4], caxs4 = plot_spectr(axs[4], e_para_cwt, **spectr_options)\n",
    "axs[4].set_ylabel(\"$f$ [Hz]\")\n",
    "caxs4.set_ylabel(\"$E_{||}^2$\" + \"\\n\" + \"[mV$^{2}$ m$^{-2}$ Hz$^{-1}$]\")\n",
    "plot_line(axs[4], f_lh, \"k\")\n",
    "plot_line(axs[4], f_ce, \"tab:blue\")\n",
    "plot_line(axs[4], f_pp, \"tab:red\")\n",
    "labels = [\"$f_{lh}$\", \"$f_{ce}$\", \"$f_{pp}$\"]\n",
    "axs[4].legend(labels, **legend_options)\n",
    "\n",
    "plot_line(axs[5], b_xyzfac_hf)\n",
    "axs[5].set_ylabel(\"$\\\\delta B$ [nT]\")\n",
    "labels = [\"$B_{\\\\perp 1}$\", \"$B_{\\\\perp 2}$\", \"$B_{||}$\"]\n",
    "axs[5].legend(labels, **legend_options)\n",
    "\n",
    "axs[6], caxs6 = plot_spectr(axs[4], b_cwt, **spectr_options)\n",
    "axs[6].set_ylabel(\"$f$ [Hz]\")\n",
    "caxs6.set_ylabel(\"$B^2$\" + \"\\n\" + \"[nT$^{2}$ Hz$^{-1}$]\")\n",
    "plot_line(axs[6], f_lh, \"k\")\n",
    "plot_line(axs[6], f_ce, \"tab:blue\")\n",
    "plot_line(axs[6], f_pp, \"tab:red\")\n",
    "labels = [\"$f_{lh}$\", \"$f_{ce}$\", \"$f_{pp}$\"]\n",
    "axs[6].legend(labels, **legend_options)"
   ]
  },
  {
   "cell_type": "code",
   "execution_count": null,
   "metadata": {},
   "outputs": [],
   "source": []
  },
  {
   "cell_type": "code",
   "execution_count": null,
   "metadata": {},
   "outputs": [],
   "source": []
  },
  {
   "cell_type": "code",
   "execution_count": null,
   "metadata": {},
   "outputs": [],
   "source": []
  },
  {
   "cell_type": "code",
   "execution_count": null,
   "metadata": {},
   "outputs": [],
   "source": []
  },
  {
   "cell_type": "code",
   "execution_count": null,
   "metadata": {},
   "outputs": [],
   "source": []
  }
 ],
 "metadata": {
  "kernelspec": {
   "display_name": "Python 3",
   "language": "python",
   "name": "python3"
  },
  "language_info": {
   "codemirror_mode": {
    "name": "ipython",
    "version": 3
   },
   "file_extension": ".py",
   "mimetype": "text/x-python",
   "name": "python",
   "nbconvert_exporter": "python",
   "pygments_lexer": "ipython3",
   "version": "3.7.5"
  }
 },
 "nbformat": 4,
 "nbformat_minor": 4
}
