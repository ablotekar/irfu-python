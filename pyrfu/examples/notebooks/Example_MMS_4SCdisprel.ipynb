{
 "cells": [
  {
   "cell_type": "code",
   "execution_count": 5,
   "metadata": {},
   "outputs": [],
   "source": [
    "from pyrfu import mms\n",
    "from pyrfu import pyrf\n",
    "import numpy as np\n",
    "from pyrfu import plot as pltrf\n",
    "import matplotlib.pyplot as plt"
   ]
  },
  {
   "cell_type": "code",
   "execution_count": 6,
   "metadata": {},
   "outputs": [],
   "source": [
    "ic = np.arange(1,5)"
   ]
  },
  {
   "cell_type": "code",
   "execution_count": 7,
   "metadata": {},
   "outputs": [],
   "source": [
    "Tint = [\"2015-10-16T13:05:25.000\",\"2015-10-16T13:05:49.000\"]"
   ]
  },
  {
   "cell_type": "code",
   "execution_count": 8,
   "metadata": {},
   "outputs": [
    {
     "name": "stdout",
     "output_type": "stream",
     "text": [
      "Loading mms1_fgm_b_gse_brst_l2...\n",
      "Loading mms2_fgm_b_gse_brst_l2...\n",
      "Loading mms3_fgm_b_gse_brst_l2...\n",
      "Loading mms4_fgm_b_gse_brst_l2...\n",
      "Loading mms1_scm_acb_gse_scb_brst_l2...\n",
      "Loading mms2_scm_acb_gse_scb_brst_l2...\n",
      "Loading mms3_scm_acb_gse_scb_brst_l2...\n",
      "Loading mms4_scm_acb_gse_scb_brst_l2...\n"
     ]
    }
   ],
   "source": [
    "Bxyz = [mms.get_data(\"B_gse_fgm_brst_l2\",Tint,i) for i in ic]\n",
    "Bscm = [mms.get_data(\"B_gse_scm_brst_l2\",Tint,i) for i in ic]"
   ]
  },
  {
   "cell_type": "code",
   "execution_count": 9,
   "metadata": {},
   "outputs": [
    {
     "name": "stdout",
     "output_type": "stream",
     "text": [
      "Loading mms1_mec_r_gse...\n",
      "Loading mms2_mec_r_gse...\n",
      "Loading mms3_mec_r_gse...\n",
      "Loading mms4_mec_r_gse...\n"
     ]
    }
   ],
   "source": [
    "Tintlong = pyrf.extend_tint(Tint,[-60,60])\n",
    "Rxyz = [mms.get_data(\"R_gse\",Tintlong,i) for i in ic]"
   ]
  },
  {
   "cell_type": "code",
   "execution_count": 10,
   "metadata": {},
   "outputs": [],
   "source": [
    "Bscmfac = [pyrf.convert_fac(Bscm[i-1],Bxyz[i-1],[1,0,0]) for i in ic]\n",
    "Bscmfacx = [Bscmfac[i][:,0] for i in range(4)]"
   ]
  },
  {
   "cell_type": "code",
   "execution_count": null,
   "metadata": {},
   "outputs": [],
   "source": []
  },
  {
   "cell_type": "code",
   "execution_count": 11,
   "metadata": {},
   "outputs": [],
   "source": [
    "Tints = [\"2015-10-16T13:05:26.500\",\"2015-10-16T13:05:27.000\"]"
   ]
  },
  {
   "cell_type": "code",
   "execution_count": null,
   "metadata": {},
   "outputs": [],
   "source": []
  },
  {
   "cell_type": "code",
   "execution_count": 16,
   "metadata": {},
   "outputs": [
    {
     "name": "stdout",
     "output_type": "stream",
     "text": [
      "notice : Computing power versus kx,f; ky,f, kz,f\n",
      "notice : Computing power versus kx,ky; kx,kz; ky,kz\n",
      "\n"
     ]
    }
   ],
   "source": [
    "power = mms.fk_powerspec4SC(Bscmfacx,Rxyz,Bxyz,Tints,df=10,numk=500,cav=4,wwidth=2)"
   ]
  },
  {
   "cell_type": "code",
   "execution_count": null,
   "metadata": {},
   "outputs": [],
   "source": []
  },
  {
   "cell_type": "code",
   "execution_count": 14,
   "metadata": {},
   "outputs": [],
   "source": []
  },
  {
   "cell_type": "code",
   "execution_count": 23,
   "metadata": {},
   "outputs": [
    {
     "name": "stdout",
     "output_type": "stream",
     "text": [
      "Using matplotlib backend: MacOSX\n"
     ]
    },
    {
     "data": {
      "text/plain": [
       "<matplotlib.lines.Line2D at 0x13f47c290>"
      ]
     },
     "execution_count": 23,
     "metadata": {},
     "output_type": "execute_result"
    }
   ],
   "source": [
    "%matplotlib\n",
    "cmap = \"viridis\"\n",
    "fig, axs = plt.subplots(ncols=4,nrows=2,figsize=(16,9))\n",
    "fig.subplots_adjust(bottom=0.1,top=0.9,left=0.1,right=0.9,hspace=0.3,wspace=0.05)\n",
    "\n",
    "pltrf.plot_spectr(axs[0,0],power.kykz,cscale=\"log\",clim=[1e-6,1e0],cmap=cmap,cbar=False)\n",
    "axs[0,0].set_xlim([-4e-4,4e-4])\n",
    "axs[0,0].set_ylim([-4e-4,4e-4])\n",
    "axs[0,0].ticklabel_format(axis=\"both\", style=\"sci\", scilimits=(0,0))\n",
    "axs[0,0].axhline(0)\n",
    "axs[0,0].axvline(0)\n",
    "\n",
    "pltrf.plot_spectr(axs[0,1],power.kperpkpar,cscale=\"log\",clim=[1e-6,1e0],cmap=cmap,cbar=False)\n",
    "axs[0,1].set_yticklabels([])\n",
    "axs[0,1].ticklabel_format(axis=\"x\", style=\"sci\", scilimits=(0,0))\n",
    "axs[0,1].set_xlim([0,4e-4])\n",
    "axs[0,1].set_ylim([-4e-4,4e-4])\n",
    "axs[0,1].axhline(0)\n",
    "axs[0,1].axvline(0)\n",
    "pltrf.plot_spectr(axs[0,2],power.kxky,cscale=\"log\",clim=[1e-6,1e0],cmap=cmap,cbar=False)\n",
    "axs[0,2].set_yticklabels([])\n",
    "axs[0,2].ticklabel_format(axis=\"x\", style=\"sci\", scilimits=(0,0))\n",
    "axs[0,2].set_xlim([-4e-4,4e-4])\n",
    "axs[0,2].set_ylim([-4e-4,4e-4])\n",
    "axs[0,2].axhline(0)\n",
    "axs[0,2].axvline(0)\n",
    "pltrf.plot_spectr(axs[0,3],power.kxkz,cscale=\"log\",clim=[1e-6,1e0],cmap=cmap)\n",
    "axs[0,3].set_yticklabels([])\n",
    "axs[0,3].ticklabel_format(axis=\"x\", style=\"sci\", scilimits=(0,0))\n",
    "axs[0,3].set_xlim([-4e-4,4e-4])\n",
    "axs[0,3].set_ylim([-4e-4,4e-4])\n",
    "axs[0,3].axhline(0)\n",
    "axs[0,3].axvline(0)\n",
    "\n",
    "pltrf.plot_spectr(axs[1,0],power.kmagf,cscale=\"log\",clim=[1e-6,1e0],cmap=cmap,cbar=False)\n",
    "axs[1,0].ticklabel_format(axis=\"x\", style=\"sci\", scilimits=(0,0))\n",
    "axs[1,0].set_ylim([0,4e3])\n",
    "axs[1,0].axhline(0)\n",
    "axs[1,0].axvline(0)\n",
    "\n",
    "pltrf.plot_spectr(axs[1,1],power.kxf,cscale=\"log\",clim=[1e-6,1e0],cmap=cmap,cbar=False)\n",
    "axs[1,1].set_yticklabels([])\n",
    "axs[1,1].ticklabel_format(axis=\"x\", style=\"sci\", scilimits=(0,0))\n",
    "axs[1,1].set_xlim([-4e-4,4e-4])\n",
    "axs[1,1].set_ylim([0,4e3])\n",
    "axs[1,1].axhline(0)\n",
    "axs[1,1].axvline(0)\n",
    "\n",
    "pltrf.plot_spectr(axs[1,2],power.kyf,cscale=\"log\",clim=[1e-6,1e0],cmap=cmap,cbar=False)\n",
    "axs[1,2].set_yticklabels([])\n",
    "axs[1,2].ticklabel_format(axis=\"x\", style=\"sci\", scilimits=(0,0))\n",
    "axs[1,2].set_xlim([-4e-4,4e-4])\n",
    "axs[1,2].set_ylim([0,4e3])\n",
    "axs[1,2].axhline(0)\n",
    "axs[1,2].axvline(0)\n",
    "\n",
    "pltrf.plot_spectr(axs[1,3],power.kzf,cscale=\"log\",clim=[1e-6,1e0],cmap=cmap)\n",
    "axs[1,3].set_yticklabels([])\n",
    "axs[1,3].ticklabel_format(axis=\"x\", style=\"sci\", scilimits=(0,0))\n",
    "axs[1,3].set_xlim([-4e-4,4e-4])\n",
    "axs[1,3].set_ylim([0,4e3])\n",
    "axs[1,3].axhline(0)\n",
    "axs[1,3].axvline(0)\n"
   ]
  },
  {
   "cell_type": "code",
   "execution_count": null,
   "metadata": {},
   "outputs": [],
   "source": []
  },
  {
   "cell_type": "code",
   "execution_count": null,
   "metadata": {},
   "outputs": [],
   "source": []
  },
  {
   "cell_type": "code",
   "execution_count": null,
   "metadata": {},
   "outputs": [],
   "source": []
  },
  {
   "cell_type": "code",
   "execution_count": null,
   "metadata": {},
   "outputs": [],
   "source": []
  },
  {
   "cell_type": "code",
   "execution_count": null,
   "metadata": {},
   "outputs": [],
   "source": []
  },
  {
   "cell_type": "code",
   "execution_count": null,
   "metadata": {},
   "outputs": [],
   "source": []
  },
  {
   "cell_type": "code",
   "execution_count": null,
   "metadata": {},
   "outputs": [],
   "source": []
  },
  {
   "cell_type": "code",
   "execution_count": null,
   "metadata": {},
   "outputs": [],
   "source": []
  },
  {
   "cell_type": "code",
   "execution_count": null,
   "metadata": {},
   "outputs": [],
   "source": []
  },
  {
   "cell_type": "code",
   "execution_count": null,
   "metadata": {},
   "outputs": [],
   "source": []
  },
  {
   "cell_type": "code",
   "execution_count": null,
   "metadata": {},
   "outputs": [],
   "source": []
  },
  {
   "cell_type": "code",
   "execution_count": null,
   "metadata": {},
   "outputs": [],
   "source": []
  },
  {
   "cell_type": "code",
   "execution_count": null,
   "metadata": {},
   "outputs": [],
   "source": []
  },
  {
   "cell_type": "code",
   "execution_count": null,
   "metadata": {},
   "outputs": [],
   "source": []
  },
  {
   "cell_type": "code",
   "execution_count": null,
   "metadata": {},
   "outputs": [],
   "source": []
  },
  {
   "cell_type": "code",
   "execution_count": null,
   "metadata": {},
   "outputs": [],
   "source": []
  },
  {
   "cell_type": "code",
   "execution_count": null,
   "metadata": {},
   "outputs": [],
   "source": []
  },
  {
   "cell_type": "code",
   "execution_count": 144,
   "metadata": {},
   "outputs": [],
   "source": []
  },
  {
   "cell_type": "code",
   "execution_count": null,
   "metadata": {},
   "outputs": [],
   "source": []
  },
  {
   "cell_type": "code",
   "execution_count": null,
   "metadata": {},
   "outputs": [],
   "source": []
  },
  {
   "cell_type": "code",
   "execution_count": null,
   "metadata": {},
   "outputs": [],
   "source": []
  },
  {
   "cell_type": "code",
   "execution_count": null,
   "metadata": {},
   "outputs": [],
   "source": []
  },
  {
   "cell_type": "code",
   "execution_count": null,
   "metadata": {},
   "outputs": [],
   "source": []
  },
  {
   "cell_type": "code",
   "execution_count": null,
   "metadata": {},
   "outputs": [],
   "source": []
  },
  {
   "cell_type": "code",
   "execution_count": null,
   "metadata": {},
   "outputs": [],
   "source": []
  }
 ],
 "metadata": {
  "kernelspec": {
   "display_name": "Python 3",
   "language": "python",
   "name": "python3"
  },
  "language_info": {
   "codemirror_mode": {
    "name": "ipython",
    "version": 3
   },
   "file_extension": ".py",
   "mimetype": "text/x-python",
   "name": "python",
   "nbconvert_exporter": "python",
   "pygments_lexer": "ipython3",
   "version": "3.7.7"
  }
 },
 "nbformat": 4,
 "nbformat_minor": 2
}
